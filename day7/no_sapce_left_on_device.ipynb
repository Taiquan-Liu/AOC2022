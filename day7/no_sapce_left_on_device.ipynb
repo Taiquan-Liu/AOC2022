{
 "cells": [
  {
   "cell_type": "code",
   "execution_count": null,
   "metadata": {},
   "outputs": [],
   "source": [
    "import networkx as nx\n",
    "from collections import defaultdict"
   ]
  },
  {
   "cell_type": "code",
   "execution_count": null,
   "metadata": {},
   "outputs": [],
   "source": [
    "with open(\"input.txt\", \"r\") as f:\n",
    "    s = f.read()"
   ]
  },
  {
   "cell_type": "code",
   "execution_count": null,
   "metadata": {},
   "outputs": [],
   "source": [
    "from IPython.display import Image\n",
    "\n",
    "def draw(G, prog='dot', args=''):\n",
    "    \"\"\"Helper for plotting a NetworkX DiGraph\"\"\"\n",
    "    A = nx.nx_agraph.to_agraph(G)\n",
    "    \n",
    "    # put all root nodes at the top\n",
    "    roots = [n for n, d in G.in_degree() if d == 0]\n",
    "    s = A.add_subgraph(rank='same')\n",
    "    s.add_nodes_from(roots)\n",
    "\n",
    "    A.layout(prog=prog, args=args)\n",
    "    return Image(A.draw(format='png'))"
   ]
  },
  {
   "cell_type": "code",
   "execution_count": null,
   "metadata": {},
   "outputs": [],
   "source": [
    "G = nx.DiGraph()\n",
    "current_node = \"file_system\"\n",
    "G.add_node(current_node, type=\"foo\")\n",
    "G.add_node(\"/\", type=\"dir\")\n",
    "G.add_edge(current_node, \"/\")\n",
    "for row in s.split(\"\\n\"):\n",
    "    print(row)\n",
    "    if row.startswith(\"$ \"):\n",
    "        command = row.replace(\"$ \", \"\")\n",
    "        if command.startswith(\"cd \"):\n",
    "            to_loc = command.replace(\"cd \", \"\")\n",
    "            if to_loc == \"..\": \n",
    "                preds = set(G.predecessors(current_node))\n",
    "                assert len(preds) == 1, f\"{current_node} has more than one predecessors {preds}!\"\n",
    "                current_node = preds.pop()\n",
    "            else:\n",
    "                succs = set(G.successors(current_node))\n",
    "                to_loc_match = {\n",
    "                    succ \n",
    "                    for succ in succs \n",
    "                    if succ.startswith(to_loc) and nx.get_node_attributes(G, \"type\")[succ] == \"dir\"\n",
    "                }\n",
    "                assert len(to_loc_match) == 1, f\"{current_node} has more than one matched successors {to_loc_match}!\"\n",
    "                current_node = to_loc_match.pop()\n",
    "        elif command == \"ls\":\n",
    "            pass\n",
    "    elif row.startswith(\"dir \"):\n",
    "        dir = row.replace(\"dir \", \"\")\n",
    "        if (dir in G.nodes):\n",
    "            dir = f\"{dir}_{len([str(n) for n in G.nodes if str(n).split('_')[0] == dir])}\"\n",
    "            print(dir)\n",
    "        print(f\"  {current_node}: {dir}\")\n",
    "        G.add_node(dir, type=\"dir\")\n",
    "        G.add_edge(current_node, dir)\n",
    "    else:\n",
    "        size, file = row.split(\" \")\n",
    "        if (file in G.nodes):\n",
    "            file = f\"{file}_{len([str(n) for n in G.nodes if str(n).split('_')[0] == file])}\"\n",
    "            print(file)\n",
    "        G.add_node(file, type=\"file\", size=int(size))\n",
    "        G.add_edge(current_node, file)\n"
   ]
  },
  {
   "cell_type": "code",
   "execution_count": null,
   "metadata": {},
   "outputs": [],
   "source": [
    "draw(G)"
   ]
  },
  {
   "cell_type": "code",
   "execution_count": null,
   "metadata": {},
   "outputs": [],
   "source": [
    "dirs = {node for node in G.nodes if nx.get_node_attributes(G, \"type\")[node] == \"dir\"}\n",
    "dirs"
   ]
  },
  {
   "cell_type": "code",
   "execution_count": null,
   "metadata": {},
   "outputs": [],
   "source": [
    "dirs_size = defaultdict(int)"
   ]
  },
  {
   "cell_type": "code",
   "execution_count": null,
   "metadata": {},
   "outputs": [],
   "source": [
    "def sum_size(parent_dir):\n",
    "    for succ in G.successors(parent_dir):\n",
    "        if nx.get_node_attributes(G, \"type\")[succ] == \"dir\":\n",
    "            sum_size(succ)\n",
    "        elif nx.get_node_attributes(G, \"type\")[succ] == \"file\":\n",
    "            ancs = nx.ancestors(G, succ)\n",
    "            for anc in ancs:\n",
    "                dirs_size[anc] += nx.get_node_attributes(G, \"size\")[succ]"
   ]
  },
  {
   "cell_type": "code",
   "execution_count": null,
   "metadata": {},
   "outputs": [],
   "source": [
    "sum_size(\"/\")\n",
    "dirs_size"
   ]
  },
  {
   "cell_type": "code",
   "execution_count": null,
   "metadata": {},
   "outputs": [],
   "source": [
    "sum([size for size in dirs_size.values() if size<100000])"
   ]
  },
  {
   "cell_type": "code",
   "execution_count": null,
   "metadata": {},
   "outputs": [],
   "source": [
    "target_size = dirs_size[\"/\"] - (70000000 - 30000000)\n",
    "target_size"
   ]
  },
  {
   "cell_type": "code",
   "execution_count": null,
   "metadata": {},
   "outputs": [],
   "source": [
    "extra_size_after_delete = {dir: size-target_size for dir, size in dirs_size.items() if size>target_size}\n",
    "extra_size_after_delete"
   ]
  },
  {
   "cell_type": "code",
   "execution_count": null,
   "metadata": {},
   "outputs": [],
   "source": [
    "sorted(extra_size_after_delete.items(), key=lambda item: item[1])"
   ]
  },
  {
   "cell_type": "code",
   "execution_count": null,
   "metadata": {},
   "outputs": [],
   "source": [
    "dirs_size[\"mdclfbs\"]"
   ]
  },
  {
   "cell_type": "code",
   "execution_count": null,
   "metadata": {},
   "outputs": [],
   "source": []
  }
 ],
 "metadata": {
  "kernelspec": {
   "display_name": "Python 3.8.0 ('sandbox-py38')",
   "language": "python",
   "name": "python3"
  },
  "language_info": {
   "codemirror_mode": {
    "name": "ipython",
    "version": 3
   },
   "file_extension": ".py",
   "mimetype": "text/x-python",
   "name": "python",
   "nbconvert_exporter": "python",
   "pygments_lexer": "ipython3",
   "version": "3.8.0"
  },
  "orig_nbformat": 4,
  "vscode": {
   "interpreter": {
    "hash": "fec44f8561e6ca7a98ffaddb8c1a49ebcfb1a7efb3f4e39d723a8e814bf293a6"
   }
  }
 },
 "nbformat": 4,
 "nbformat_minor": 2
}
