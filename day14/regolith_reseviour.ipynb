{
 "cells": [
  {
   "cell_type": "code",
   "execution_count": null,
   "metadata": {},
   "outputs": [],
   "source": [
    "import numpy as np\n",
    "import pandas as pd\n",
    "from collections import defaultdict"
   ]
  },
  {
   "cell_type": "code",
   "execution_count": null,
   "metadata": {},
   "outputs": [],
   "source": [
    "with open(\"test_input.txt\", \"r\") as f:\n",
    "    s = f.read()"
   ]
  },
  {
   "cell_type": "code",
   "execution_count": null,
   "metadata": {},
   "outputs": [],
   "source": [
    "with open(\"input.txt\", \"r\") as f:\n",
    "    s = f.read()"
   ]
  },
  {
   "cell_type": "code",
   "execution_count": null,
   "metadata": {},
   "outputs": [],
   "source": [
    "def expand_coords(start_coord, end_coord):\n",
    "    dx = end_coord[0] - start_coord[0]\n",
    "    dy = end_coord[1] - start_coord[1]\n",
    "    assert not all([dx==0, dy==0])\n",
    "    if dx!=0 and dy==0:\n",
    "        return [(x, start_coord[1]) for x in range(start_coord[0], end_coord[0], dx//abs(dx))]\n",
    "    elif dx==0 and dy!=0:\n",
    "        return [(start_coord[0], y) for y in range(start_coord[1], end_coord[1], dy//abs(dy))]\n",
    "    elif dx==0 and dy==0:\n",
    "        return start_coord"
   ]
  },
  {
   "cell_type": "code",
   "execution_count": null,
   "metadata": {},
   "outputs": [],
   "source": [
    "rocks = defaultdict(dict)\n",
    "rocks[500][0] = \"+\""
   ]
  },
  {
   "cell_type": "code",
   "execution_count": null,
   "metadata": {},
   "outputs": [],
   "source": [
    "for row in s.splitlines():\n",
    "    line = []\n",
    "    coords = [\n",
    "        tuple(int(n) for n in coord.split(\",\"))\n",
    "        for coord in row.split(\" -> \")\n",
    "    ]\n",
    "    for i, coord in enumerate(coords):\n",
    "        if i+1 < len(coords):\n",
    "            line.extend(expand_coords(coord, coords[i+1]))\n",
    "        else:\n",
    "            line.append(coord)\n",
    "    for (x,y) in line:\n",
    "        rocks[x][y] = \"#\""
   ]
  },
  {
   "cell_type": "code",
   "execution_count": null,
   "metadata": {},
   "outputs": [],
   "source": [
    "def fill_empty(res):\n",
    "    return res.reindex(\n",
    "        list(range(res.index.min(), res.index.max()+1)), \n",
    "        columns=list(range(res.columns.min(), res.columns.max()+1)), \n",
    "        fill_value=\".\"\n",
    "    )"
   ]
  },
  {
   "cell_type": "code",
   "execution_count": null,
   "metadata": {},
   "outputs": [],
   "source": [
    "res = pd.DataFrame(rocks).sort_index(axis=0).sort_index(axis=1).fillna(\".\")\n",
    "res = fill_empty(res)\n",
    "res"
   ]
  },
  {
   "cell_type": "code",
   "execution_count": null,
   "metadata": {},
   "outputs": [],
   "source": [
    "# For part two\n",
    "height = res.index.max()\n",
    "# y (horizontal) axis for the \"infinite\" plane. Physically it shouldn't need more than this\n",
    "inf_plane_y = list(range(500-2*height, 500+2*height))\n",
    "for y in inf_plane_y:\n",
    "    res.loc[(height+2, y)] = \"#\"\n",
    "res = fill_empty(res.sort_index(axis=0).sort_index(axis=1).fillna(\".\"))\n",
    "res"
   ]
  },
  {
   "cell_type": "code",
   "execution_count": null,
   "metadata": {},
   "outputs": [],
   "source": [
    "def vec_add(vec_a: tuple, vec_b: tuple) -> tuple:\n",
    "    return tuple(np.array(vec_a) + np.array(vec_b))"
   ]
  },
  {
   "cell_type": "code",
   "execution_count": null,
   "metadata": {},
   "outputs": [],
   "source": [
    "class OutOfBoundError(Exception):\n",
    "    def __init__(self):\n",
    "        super().__init__(\"Drop out of bound\")"
   ]
  },
  {
   "cell_type": "code",
   "execution_count": null,
   "metadata": {},
   "outputs": [],
   "source": [
    "def try_move(res, vec):\n",
    "    try:\n",
    "        next = res.loc[vec]\n",
    "        if next == \".\":\n",
    "            return True\n",
    "        else:\n",
    "            # Could be stone (o), wall (#), pouring point (+)\n",
    "            return False\n",
    "    except KeyError:\n",
    "        # The stone dropes out of boundary\n",
    "        raise OutOfBoundError"
   ]
  },
  {
   "cell_type": "code",
   "execution_count": null,
   "metadata": {},
   "outputs": [],
   "source": [
    "def move_one_step(res, coord):\n",
    "    # Note that the coord system used in .loc is different than the requirement\n",
    "    vec_down = (1,0)\n",
    "    vec_left_down = (1,-1)\n",
    "    vec_right_down = (1,1)\n",
    "    if try_move(res, vec_add(coord, vec_down)):\n",
    "        # The stone could still move down\n",
    "        move_one_step(res, vec_add(coord, vec_down))\n",
    "    elif try_move(res, vec_add(coord, vec_left_down)):\n",
    "        # The stone could still move to left down\n",
    "        move_one_step(res, vec_add(coord, vec_left_down))\n",
    "    elif try_move(res, vec_add(coord, vec_right_down)):\n",
    "        # The stone could still move to right down\n",
    "        move_one_step(res, vec_add(coord, vec_right_down))\n",
    "    elif res.loc[coord] == \"+\":\n",
    "        # Stones have piled up all the way to the top\n",
    "        res.loc[coord] = \"o\"\n",
    "        raise OutOfBoundError\n",
    "    else:\n",
    "        # The stone could not be moved at all, and none of the 3 positions are out of boundary\n",
    "        res.loc[coord] = \"o\""
   ]
  },
  {
   "cell_type": "code",
   "execution_count": null,
   "metadata": {},
   "outputs": [],
   "source": [
    "try:\n",
    "    while True:\n",
    "        move_one_step(res, (0, 500))\n",
    "except OutOfBoundError:\n",
    "    print((res==\"o\").sum().sum())"
   ]
  }
 ],
 "metadata": {
  "kernelspec": {
   "display_name": "eniflowini-dev-py39",
   "language": "python",
   "name": "eniflowini-dev-py39"
  },
  "language_info": {
   "codemirror_mode": {
    "name": "ipython",
    "version": 3
   },
   "file_extension": ".py",
   "mimetype": "text/x-python",
   "name": "python",
   "nbconvert_exporter": "python",
   "pygments_lexer": "ipython3",
   "version": "3.9.10"
  },
  "orig_nbformat": 4,
  "vscode": {
   "interpreter": {
    "hash": "fec44f8561e6ca7a98ffaddb8c1a49ebcfb1a7efb3f4e39d723a8e814bf293a6"
   }
  }
 },
 "nbformat": 4,
 "nbformat_minor": 2
}
