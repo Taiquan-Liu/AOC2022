{
 "cells": [
  {
   "cell_type": "code",
   "execution_count": null,
   "metadata": {},
   "outputs": [],
   "source": [
    "def letter_to_number(letter: str) -> int:\n",
    "    num = ord(letter)\n",
    "    if num in list(range(65, 90+1)):\n",
    "        # letter is A-Z\n",
    "        return num - (65 - 27)\n",
    "    elif num in list(range(97, 122+1)):\n",
    "        # letter is a-z\n",
    "        return num - (97 - 1)\n",
    "    else:\n",
    "        raise Exception(f\"{letter} is not within a-z, A-Z\")"
   ]
  },
  {
   "cell_type": "code",
   "execution_count": null,
   "metadata": {},
   "outputs": [],
   "source": [
    "def separate_compartments(all_items):\n",
    "    items_num = len(all_items)\n",
    "    assert items_num % 2 == 0, f\"Number of items is not even: {all_items}\"\n",
    "    half = int(items_num/2)\n",
    "    return all_items[:half], all_items[half:]"
   ]
  },
  {
   "cell_type": "code",
   "execution_count": null,
   "metadata": {},
   "outputs": [],
   "source": [
    "with open(\"input.txt\", \"r\") as f:\n",
    "    s = f.read()"
   ]
  },
  {
   "cell_type": "code",
   "execution_count": null,
   "metadata": {},
   "outputs": [],
   "source": [
    "all_rucksacks = s.split(\"\\n\")\n",
    "scores = []\n",
    "for rucksack in all_rucksacks:\n",
    "    comp_1, comp_2 = separate_compartments(rucksack)\n",
    "    same_items = set(comp_1).intersection(set(comp_2))\n",
    "    assert len(same_items) == 1, f\"There are more than one same items {same_items} in rucksack {rucksack}\"\n",
    "    scores.append(sum([letter_to_number(item) for item in same_items]))\n",
    "scores"
   ]
  },
  {
   "cell_type": "code",
   "execution_count": null,
   "metadata": {},
   "outputs": [],
   "source": [
    "sum(scores)"
   ]
  },
  {
   "cell_type": "code",
   "execution_count": null,
   "metadata": {},
   "outputs": [],
   "source": [
    "assert len(all_rucksacks) % 3 == 0, f\"The size of all rucksacks {len(all_rucksacks)} cannot be devided by 3\"\n",
    "groups = [all_rucksacks[i*3: (i+1)*3] for i in list(range(int(len(all_rucksacks)/3)))]\n",
    "groups"
   ]
  },
  {
   "cell_type": "code",
   "execution_count": null,
   "metadata": {},
   "outputs": [],
   "source": [
    "scores_group = []\n",
    "for group in groups:\n",
    "    same_badges = set(group[0]).intersection(group[1]).intersection(group[2])\n",
    "    assert len(same_badges) == 1, f\"There are more than one same badges {same_badges} in group {group}\"\n",
    "    scores_group.append(letter_to_number(same_badges.pop()))\n",
    "scores_group"
   ]
  },
  {
   "cell_type": "code",
   "execution_count": null,
   "metadata": {},
   "outputs": [],
   "source": [
    "sum(scores_group)"
   ]
  }
 ],
 "metadata": {
  "kernelspec": {
   "display_name": "Python 3.8.0 ('sandbox-py38')",
   "language": "python",
   "name": "python3"
  },
  "language_info": {
   "codemirror_mode": {
    "name": "ipython",
    "version": 3
   },
   "file_extension": ".py",
   "mimetype": "text/x-python",
   "name": "python",
   "nbconvert_exporter": "python",
   "pygments_lexer": "ipython3",
   "version": "3.8.0"
  },
  "orig_nbformat": 4,
  "vscode": {
   "interpreter": {
    "hash": "fec44f8561e6ca7a98ffaddb8c1a49ebcfb1a7efb3f4e39d723a8e814bf293a6"
   }
  }
 },
 "nbformat": 4,
 "nbformat_minor": 2
}
