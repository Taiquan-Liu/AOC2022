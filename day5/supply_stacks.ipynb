{
 "cells": [
  {
   "cell_type": "code",
   "execution_count": null,
   "metadata": {},
   "outputs": [],
   "source": [
    "import copy\n",
    "from collections import defaultdict"
   ]
  },
  {
   "cell_type": "code",
   "execution_count": null,
   "metadata": {},
   "outputs": [],
   "source": [
    "with open(\"input.txt\", \"r\") as f:\n",
    "    s = f.read()"
   ]
  },
  {
   "cell_type": "code",
   "execution_count": null,
   "metadata": {},
   "outputs": [],
   "source": [
    "def build_stack(stacks, row):\n",
    "    ind = list(range(1, len(row)+1, 4))\n",
    "    cargo = {i+1: list(row)[ind[i]] for i in range(len(ind))}\n",
    "    for j in range(1,10):\n",
    "        if cargo.get(j) and cargo.get(j) != \" \":\n",
    "            stacks[j].insert(0, cargo[j])"
   ]
  },
  {
   "cell_type": "code",
   "execution_count": null,
   "metadata": {},
   "outputs": [],
   "source": [
    "def operate(stacks, row, mode):\n",
    "    _,mo,_,fr,_,to = row.split(\" \")\n",
    "    if mode == \"9000\":\n",
    "        for _ in range(int(mo)):\n",
    "            stacks[int(to)].append(stacks[int(fr)].pop())\n",
    "    elif mode == \"9001\":\n",
    "        stacks[int(to)].extend(stacks[int(fr)][-int(mo):])\n",
    "        del stacks[int(fr)][-int(mo):]"
   ]
  },
  {
   "cell_type": "code",
   "execution_count": null,
   "metadata": {},
   "outputs": [],
   "source": [
    "stacks = defaultdict(list)\n",
    "for row in s.split(\"\\n\"):\n",
    "    if row.startswith(\"[\"):\n",
    "        build_stack(stacks, row)\n",
    "        stacks_9000 = copy.deepcopy(stacks)\n",
    "        stacks_9001 = copy.deepcopy(stacks)\n",
    "    elif row.startswith(\"move\"):\n",
    "        operate(stacks_9000, row, mode=\"9000\")\n",
    "        operate(stacks_9001, row, mode=\"9001\")\n",
    "stacks_9000 = dict(sorted(stacks_9000.items()))\n",
    "stacks_9001 = dict(sorted(stacks_9001.items()))\n",
    "print(\"\".join([stack[-1] for stack in stacks_9000.values()]))\n",
    "print(\"\".join([stack[-1] for stack in stacks_9001.values()]))            "
   ]
  }
 ],
 "metadata": {
  "kernelspec": {
   "display_name": "Python 3.8.0 ('sandbox-py38')",
   "language": "python",
   "name": "python3"
  },
  "language_info": {
   "codemirror_mode": {
    "name": "ipython",
    "version": 3
   },
   "file_extension": ".py",
   "mimetype": "text/x-python",
   "name": "python",
   "nbconvert_exporter": "python",
   "pygments_lexer": "ipython3",
   "version": "3.8.0"
  },
  "orig_nbformat": 4,
  "vscode": {
   "interpreter": {
    "hash": "fec44f8561e6ca7a98ffaddb8c1a49ebcfb1a7efb3f4e39d723a8e814bf293a6"
   }
  }
 },
 "nbformat": 4,
 "nbformat_minor": 2
}
