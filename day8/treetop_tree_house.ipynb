{
 "cells": [
  {
   "cell_type": "code",
   "execution_count": 9,
   "metadata": {},
   "outputs": [],
   "source": [
    "import numpy as np\n",
    "import pandas as pd\n",
    "from collections import defaultdict"
   ]
  },
  {
   "cell_type": "code",
   "execution_count": 139,
   "metadata": {},
   "outputs": [],
   "source": [
    "class TreeGrid():\n",
    "    def __init__(self, s) -> None:\n",
    "        self.grid = defaultdict(\n",
    "            lambda: {\n",
    "                \"height\": int,\n",
    "                \"up\": False,\n",
    "                \"down\": False,\n",
    "                \"left\": False,\n",
    "                \"right\": False,\n",
    "                \"scenic\": 1,\n",
    "            }\n",
    "        )\n",
    "        for i, row in enumerate(s.splitlines()):\n",
    "            for j, height in enumerate(row):\n",
    "                self.grid[(i, j)][\"height\"] = int(height)\n",
    "        self.size = list(max(self.grid.keys()))\n",
    "\n",
    "\n",
    "    def _get_edge_coords(self, from_dir):\n",
    "        if from_dir.lower() == \"up\":\n",
    "            return [(0, j) for j in range(self.size[1]+1)], (1,0)\n",
    "        elif from_dir.lower() == \"down\":\n",
    "            return [(self.size[0], j) for j in range(self.size[1]+1)], (-1,0)\n",
    "        elif from_dir.lower() == \"left\":\n",
    "            return [(i, 0) for i in range(self.size[0]+1)], (0,1)\n",
    "        elif from_dir.lower() == \"right\":\n",
    "            return [(i, self.size[1]) for i in range(self.size[0]+1)], (0,-1)\n",
    "        else:\n",
    "            raise Exception(f\"{from_dir} could not be recognised. Use 'up', 'down', 'left', 'right'\")\n",
    "\n",
    "\n",
    "    @staticmethod\n",
    "    def vec_add(vec_a: tuple, vec_b: tuple) -> tuple:\n",
    "        return tuple(np.array(vec_a) + np.array(vec_b))\n",
    "        \n",
    "\n",
    "    def _check_visible_row(self, coord, to_vector, from_dir):\n",
    "        tallest = -1\n",
    "        same_height = False\n",
    "        in_grid = True\n",
    "        while in_grid:\n",
    "            if self.grid[coord][\"height\"] > tallest:\n",
    "                self.grid[coord][from_dir] = True\n",
    "                tallest = self.grid[coord][\"height\"]\n",
    "            coord = self.vec_add(coord, to_vector)\n",
    "            in_grid = coord in self.grid.keys()\n",
    "\n",
    "\n",
    "    def _check_view_distance(self, coord, to_vector):\n",
    "        block = False\n",
    "        in_grid = True\n",
    "        start_height = self.grid[coord][\"height\"]\n",
    "        view_distance = 0\n",
    "        while not block and in_grid:\n",
    "            new_coord = self.vec_add(coord, to_vector)\n",
    "            in_grid = new_coord in self.grid.keys()\n",
    "            if in_grid:\n",
    "                view_distance += 1\n",
    "                block = self.grid[new_coord][\"height\"] >= start_height\n",
    "            coord = new_coord\n",
    "\n",
    "        return view_distance\n",
    "\n",
    "\n",
    "    def check_visible_from_edge(self, from_dir):\n",
    "        initial_coords, to_vector = self._get_edge_coords(from_dir)\n",
    "        for coord in initial_coords:\n",
    "            self._check_visible_row(coord, to_vector, from_dir)\n",
    "\n",
    "\n",
    "    def check_visible_from_point(self, coord):\n",
    "        for from_dir in [\"up\", \"down\", \"left\", \"right\"]:\n",
    "            _, to_vector = self._get_edge_coords(from_dir)\n",
    "            self.grid[coord][\"scenic\"] *= self._check_view_distance(coord, to_vector)"
   ]
  },
  {
   "cell_type": "code",
   "execution_count": 140,
   "metadata": {},
   "outputs": [],
   "source": [
    "with open(\"test_input.txt\", \"r\") as f:\n",
    "    s = f.read()\n",
    "\n",
    "grid = TreeGrid(s)\n",
    "from_dirs = [\"up\", \"down\", \"left\", \"right\"]\n",
    "for from_dir in from_dirs:\n",
    "    grid.check_visible_from_edge(from_dir)\n",
    "    \n",
    "visible_coords = [coord for coord, d in grid.grid.items() if any([d[from_dir] for from_dir in from_dirs])]\n",
    "assert len(visible_coords) == 21, len(visible_coords)\n",
    "\n",
    "for coord in grid.grid.keys():\n",
    "    grid.check_visible_from_point(coord)\n",
    "max_scenic = max([d[\"scenic\"] for coord, d in grid.grid.items()])\n",
    "assert max_scenic == 8, max_scenic"
   ]
  },
  {
   "cell_type": "code",
   "execution_count": 141,
   "metadata": {},
   "outputs": [
    {
     "name": "stdout",
     "output_type": "stream",
     "text": [
      "1859\n",
      "332640\n"
     ]
    }
   ],
   "source": [
    "with open(\"input.txt\", \"r\") as f:\n",
    "    s = f.read()\n",
    "\n",
    "grid = TreeGrid(s)\n",
    "from_dirs = [\"up\", \"down\", \"left\", \"right\"]\n",
    "for from_dir in from_dirs:\n",
    "    grid.check_visible_from_edge(from_dir)\n",
    "    \n",
    "visible_coords = [coord for coord, d in grid.grid.items() if any([d[from_dir] for from_dir in from_dirs])]\n",
    "print(len(visible_coords))\n",
    "\n",
    "for coord in grid.grid.keys():\n",
    "    grid.check_visible_from_point(coord)\n",
    "max_scenic = max([d[\"scenic\"] for coord, d in grid.grid.items()])\n",
    "print(max_scenic)"
   ]
  }
 ],
 "metadata": {
  "kernelspec": {
   "display_name": "sandbox-py38",
   "language": "python",
   "name": "python3"
  },
  "language_info": {
   "codemirror_mode": {
    "name": "ipython",
    "version": 3
   },
   "file_extension": ".py",
   "mimetype": "text/x-python",
   "name": "python",
   "nbconvert_exporter": "python",
   "pygments_lexer": "ipython3",
   "version": "3.8.0"
  },
  "orig_nbformat": 4,
  "vscode": {
   "interpreter": {
    "hash": "fec44f8561e6ca7a98ffaddb8c1a49ebcfb1a7efb3f4e39d723a8e814bf293a6"
   }
  }
 },
 "nbformat": 4,
 "nbformat_minor": 2
}
