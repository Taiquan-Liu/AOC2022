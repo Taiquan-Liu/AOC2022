{
 "cells": [
  {
   "cell_type": "code",
   "execution_count": null,
   "metadata": {},
   "outputs": [],
   "source": [
    "with open(\"input.txt\", \"r\") as f:\n",
    "    s = f.read()"
   ]
  },
  {
   "cell_type": "code",
   "execution_count": null,
   "metadata": {},
   "outputs": [],
   "source": [
    "def assignment_str_to_tup(assignment):\n",
    "    first, second = assignment.split(\",\")\n",
    "    first_range = list(map(int, first.split(\"-\")))\n",
    "    first_range[-1] += 1\n",
    "    second_range = list(map(int, second.split(\"-\")))\n",
    "    second_range[-1] += 1\n",
    "    return (\n",
    "        set(range(*first_range)),\n",
    "        set(range(*second_range)),\n",
    "    )\n",
    "    "
   ]
  },
  {
   "cell_type": "code",
   "execution_count": null,
   "metadata": {},
   "outputs": [],
   "source": [
    "assignments = [(assignment_str_to_tup(pair)) for pair in s.split(\"\\n\")]\n",
    "fully_contain = [\n",
    "    pair\n",
    "    for pair in assignments\n",
    "    if any([\n",
    "        set.union(*pair) == assginment\n",
    "        for assginment in pair\n",
    "    ])\n",
    "]"
   ]
  },
  {
   "cell_type": "code",
   "execution_count": null,
   "metadata": {},
   "outputs": [],
   "source": [
    "len(fully_contain)"
   ]
  },
  {
   "cell_type": "code",
   "execution_count": null,
   "metadata": {},
   "outputs": [],
   "source": [
    "overlap = [\n",
    "    pair\n",
    "    for pair in assignments\n",
    "    if set.intersection(*pair) \n",
    "]"
   ]
  },
  {
   "cell_type": "code",
   "execution_count": null,
   "metadata": {},
   "outputs": [],
   "source": [
    "len(overlap)"
   ]
  }
 ],
 "metadata": {
  "kernelspec": {
   "display_name": "Python 3.8.0 ('sandbox-py38')",
   "language": "python",
   "name": "python3"
  },
  "language_info": {
   "codemirror_mode": {
    "name": "ipython",
    "version": 3
   },
   "file_extension": ".py",
   "mimetype": "text/x-python",
   "name": "python",
   "nbconvert_exporter": "python",
   "pygments_lexer": "ipython3",
   "version": "3.8.0"
  },
  "orig_nbformat": 4,
  "vscode": {
   "interpreter": {
    "hash": "fec44f8561e6ca7a98ffaddb8c1a49ebcfb1a7efb3f4e39d723a8e814bf293a6"
   }
  }
 },
 "nbformat": 4,
 "nbformat_minor": 2
}
